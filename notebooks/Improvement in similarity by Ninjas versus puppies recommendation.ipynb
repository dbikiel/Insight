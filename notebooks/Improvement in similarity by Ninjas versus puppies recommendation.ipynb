{
 "cells": [
  {
   "cell_type": "markdown",
   "metadata": {},
   "source": [
    "# Similarity improvement due to NvP recommendation"
   ]
  },
  {
   "cell_type": "markdown",
   "metadata": {},
   "source": [
    "Given a random pair of movies, how much similar are the recommendarion produced by NvP from the original simialrity of the target movies?"
   ]
  },
  {
   "cell_type": "code",
   "execution_count": 1,
   "metadata": {
    "scrolled": false
   },
   "outputs": [],
   "source": [
    "import gensim\n",
    "from gensim.models.doc2vec import Doc2Vec\n",
    "import pandas as pd\n",
    "import numpy as np\n",
    "import random\n",
    "%matplotlib inline\n",
    "import matplotlib.pyplot as plt\n",
    "import seaborn as sns\n",
    "sns.set();\n",
    "from tqdm import notebook, tqdm\n",
    "import math"
   ]
  },
  {
   "cell_type": "code",
   "execution_count": 2,
   "metadata": {
    "scrolled": false
   },
   "outputs": [],
   "source": [
    "#load model\n",
    "directory = '/Users/dbikiel/Documents/Insight-Local/notebooks/'\n",
    "model = Doc2Vec.load(directory + 'model_doc2vec_20120123')\n",
    "titles = pd.read_csv('/Users/dbikiel/PycharmProjects/Insight/data/ml-25m/movies.csv')\n",
    "ratings = pd.read_csv('/Users/dbikiel/PycharmProjects/Insight/data/ml-25m/ratings.csv')\n",
    "metadata = pd.read_csv('/Users/dbikiel/PycharmProjects/Insight/data/TMDB-metadata-62K.csv')\n",
    "\n",
    "metadata['movieId'] = titles.movieId\n",
    "movieId = list(titles.movieId.values)\n",
    "movieid_to_doctags = {int(movie): i for i, movie in enumerate(movieId)}"
   ]
  },
  {
   "cell_type": "markdown",
   "metadata": {
    "scrolled": false
   },
   "source": [
    "Let's create a simialr function as the one used in the app to recommend movies, but it returns the average similarity of the recommendation from each one of the users selected movies"
   ]
  },
  {
   "cell_type": "code",
   "execution_count": 15,
   "metadata": {
    "scrolled": false
   },
   "outputs": [],
   "source": [
    "def find_middle_with_filter(model, data_df, movieid_to_doctags, movies, topn, remove_movies):\n",
    "    \"\"\"\n",
    "    Function to search a movie in between two other movies. Uses the a doc2vec trained model an a database\n",
    "    of movies to find the topn closest movies.\n",
    "    :param model: a doc2vec model\n",
    "    :param data_df: a pandas dataframe containing id, title, rating, votes, overview\n",
    "    :param movieid_to_doctags: dict to transform movie id to doctag id\n",
    "    :param movies: list of id of 2 movies\n",
    "    :param topn: number of similarity searches for each movie integer\n",
    "    :param remove_movies: id of movies to remove from the final result\n",
    "    :return:\n",
    "    \"\"\"\n",
    "\n",
    "    # get the ids from the list\n",
    "    movie1 = int(movies[0])\n",
    "    movie2 = int(movies[1])\n",
    "\n",
    "    to_remove = [int(remove_movies[0]), int(remove_movies[1])]\n",
    "\n",
    "    # titles and movieIds from the dataframe\n",
    "    title = list(data_df['title'])\n",
    "    movieId = list(data_df['movieId'])\n",
    "\n",
    "    movieid_to_title = {movie: tit for movie, tit in zip(movieId, title)}\n",
    "\n",
    "    # set of vectors to search the similarity\n",
    "    vectors = set([movieid_to_doctags[movie] for movie in movieId])\n",
    "\n",
    "    # dict to convert doctags\n",
    "    doctag_to_movieId = {j: i for i, j in zip(movieid_to_doctags.keys(), movieid_to_doctags.values())}\n",
    "    #doctag_to_title = {j: i for i, j in zip(vectors, title)}\n",
    "\n",
    "    # Get the vectors of the target movies\n",
    "    vec1 = model.docvecs[movieid_to_doctags[movie1]]\n",
    "    vec2 = model.docvecs[movieid_to_doctags[movie2]]\n",
    "\n",
    "    # Search topn similar movies for each movie\n",
    "    vec1_sim = model.docvecs.most_similar([vec1], topn=topn)\n",
    "    vec2_sim = model.docvecs.most_similar([vec2], topn=topn)\n",
    "\n",
    "    # Unpack vectors\n",
    "    vec1_sim_doctags, vec1_sim_sim = zip(*vec1_sim)\n",
    "    vec2_sim_doctags, vec2_sim_sim = zip(*vec2_sim)\n",
    "\n",
    "    # Create the intersection of the most similar movies\n",
    "    intersection = set(vec1_sim_doctags).intersection(set(vec2_sim_doctags))\n",
    "    intersection = intersection.intersection(vectors)\n",
    "\n",
    "    # if the target movies are in the intersection, is removed\n",
    "    if movieid_to_doctags[movie1] in intersection:\n",
    "        intersection.remove(movieid_to_doctags[movie1])\n",
    "    if movieid_to_doctags[movie2] in intersection:\n",
    "        intersection.remove(movieid_to_doctags[movie2])\n",
    "\n",
    "    # Remove the movies in the remove list if they are in the intersection\n",
    "    for movie in to_remove:\n",
    "        if movieid_to_doctags[movie] in intersection:\n",
    "            intersection.remove(movieid_to_doctags[movie])\n",
    "\n",
    "    # Create list for different parameters to produce the final result\n",
    "    # id\n",
    "    movie_id = []\n",
    "    tit = []\n",
    "\n",
    "    # similarity to movie 1 or 2\n",
    "    user1_sim = []\n",
    "    user2_sim = []\n",
    "\n",
    "    # mean and std similarity\n",
    "    mean_sim = []\n",
    "    std_sim = []\n",
    "\n",
    "    # absolute difference of the difference between the similarity\n",
    "    ineq_sim = []\n",
    "\n",
    "    # Product of the similarity\n",
    "    prod_sim = []\n",
    "\n",
    "    # mean similarity - absolute difference\n",
    "    mean_ineq_sim = []\n",
    "\n",
    "    # std divided by mean similarity\n",
    "    std_over_mean_sim = []\n",
    "\n",
    "    # For each movie found calculates all the parameters\n",
    "    \n",
    "    target_sim = model.docvecs.similarity(movieid_to_doctags[movie1], movieid_to_doctags[movie2])\n",
    "    \n",
    "    for i in intersection:\n",
    "        tit.append(movieid_to_title[doctag_to_movieId[i]])\n",
    "        #id\n",
    "        movie_id.append(doctag_to_movieId[i])\n",
    "\n",
    "        # movie similarity versus movie1 and movie2\n",
    "        sim1 = vec1_sim_sim[vec1_sim_doctags.index(i)]\n",
    "        sim2 = vec2_sim_sim[vec2_sim_doctags.index(i)]\n",
    "\n",
    "        # similarities\n",
    "        user1_sim.append(np.round(sim1, 3))\n",
    "        user2_sim.append(np.round(sim2, 3))\n",
    "\n",
    "        # mean and std\n",
    "        mean_sim.append(np.round(0.5 * (sim1 + sim2), 3))\n",
    "        std_sim.append(np.round(np.std(np.array([sim1, sim2])), 3))\n",
    "\n",
    "        # absolute difference, product, mean - abs, std / mean\n",
    "        ineq_sim.append(np.round(abs(sim1 - sim2), 3))\n",
    "        prod_sim.append(np.round(sim1 * sim2, 3))\n",
    "        mean_ineq_sim.append(np.round(0.5 * (sim1 + sim2) - 0.5 * abs(sim1 - sim2), 3))\n",
    "        std_over_mean_sim.append(np.round(np.std(np.array([sim1, sim2])) / (0.5 * (sim1 + sim2)), 3))\n",
    "\n",
    "    # creates a dataframe with all the results\n",
    "    results = {'title': tit, 'id': movie_id, 'user1_sim': user1_sim,\n",
    "               'user2_sim': user2_sim, 'mean_sim': mean_sim, 'std_sim': std_sim, 'ineq_sim': ineq_sim,\n",
    "               'prod_sim': prod_sim, 'mean_ineq_sim': mean_ineq_sim, 'std_over_mean_sim': std_over_mean_sim}\n",
    "\n",
    "    res = pd.DataFrame(results)\n",
    "\n",
    "    # produces the final result, sorting by mean - abs. Only first 6 results\n",
    "    #final = res.sort_values(by=['mean_ineq_sim'], ascending=False).head(6)\n",
    "    final = res.sort_values(by=['mean_ineq_sim'], ascending=False)\n",
    "    #print(target_sim)\n",
    "    #print(final[['user1_sim','user2_sim']])\n",
    "    # returns a list of movie ids\n",
    "    #row = [movie1,movie2,target_sim,np.mean(final.user1_sim), np.mean(final.user2_sim)]\n",
    "    #return list(final['id'])\n",
    "    #return row\n",
    "    return final\n"
   ]
  },
  {
   "cell_type": "markdown",
   "metadata": {},
   "source": [
    "I will filter movies with ratings below 5 and votes below 500"
   ]
  },
  {
   "cell_type": "code",
   "execution_count": 28,
   "metadata": {},
   "outputs": [],
   "source": [
    "c1 = metadata.vote_average > 5\n",
    "c2 = metadata.vote_count > 500\n",
    "filtered_movies = titles[titles.movieId.isin(metadata[c1 & c2].movieId)]"
   ]
  },
  {
   "cell_type": "markdown",
   "metadata": {},
   "source": [
    "And let's see what the system recommends for \"Seven Samurai\" and \"Bolt\""
   ]
  },
  {
   "cell_type": "code",
   "execution_count": 33,
   "metadata": {
    "scrolled": false
   },
   "outputs": [
    {
     "data": {
      "text/html": [
       "<div>\n",
       "<style scoped>\n",
       "    .dataframe tbody tr th:only-of-type {\n",
       "        vertical-align: middle;\n",
       "    }\n",
       "\n",
       "    .dataframe tbody tr th {\n",
       "        vertical-align: top;\n",
       "    }\n",
       "\n",
       "    .dataframe thead th {\n",
       "        text-align: right;\n",
       "    }\n",
       "</style>\n",
       "<table border=\"1\" class=\"dataframe\">\n",
       "  <thead>\n",
       "    <tr style=\"text-align: right;\">\n",
       "      <th></th>\n",
       "      <th>title</th>\n",
       "      <th>id</th>\n",
       "      <th>user1_sim</th>\n",
       "      <th>user2_sim</th>\n",
       "      <th>mean_sim</th>\n",
       "      <th>std_sim</th>\n",
       "      <th>ineq_sim</th>\n",
       "      <th>prod_sim</th>\n",
       "      <th>mean_ineq_sim</th>\n",
       "      <th>std_over_mean_sim</th>\n",
       "    </tr>\n",
       "  </thead>\n",
       "  <tbody>\n",
       "    <tr>\n",
       "      <th>8</th>\n",
       "      <td>Rango (2011)</td>\n",
       "      <td>84944</td>\n",
       "      <td>0.337</td>\n",
       "      <td>0.340</td>\n",
       "      <td>0.339</td>\n",
       "      <td>0.002</td>\n",
       "      <td>0.004</td>\n",
       "      <td>0.115</td>\n",
       "      <td>0.337</td>\n",
       "      <td>0.006</td>\n",
       "    </tr>\n",
       "    <tr>\n",
       "      <th>5</th>\n",
       "      <td>Mulan (1998)</td>\n",
       "      <td>1907</td>\n",
       "      <td>0.513</td>\n",
       "      <td>0.333</td>\n",
       "      <td>0.423</td>\n",
       "      <td>0.090</td>\n",
       "      <td>0.180</td>\n",
       "      <td>0.171</td>\n",
       "      <td>0.333</td>\n",
       "      <td>0.213</td>\n",
       "    </tr>\n",
       "    <tr>\n",
       "      <th>1</th>\n",
       "      <td>The Jungle Book (2016)</td>\n",
       "      <td>137857</td>\n",
       "      <td>0.332</td>\n",
       "      <td>0.330</td>\n",
       "      <td>0.331</td>\n",
       "      <td>0.001</td>\n",
       "      <td>0.002</td>\n",
       "      <td>0.110</td>\n",
       "      <td>0.330</td>\n",
       "      <td>0.003</td>\n",
       "    </tr>\n",
       "    <tr>\n",
       "      <th>4</th>\n",
       "      <td>Wolf Children (Okami kodomo no ame to yuki) (2...</td>\n",
       "      <td>101962</td>\n",
       "      <td>0.411</td>\n",
       "      <td>0.321</td>\n",
       "      <td>0.366</td>\n",
       "      <td>0.045</td>\n",
       "      <td>0.091</td>\n",
       "      <td>0.132</td>\n",
       "      <td>0.321</td>\n",
       "      <td>0.124</td>\n",
       "    </tr>\n",
       "    <tr>\n",
       "      <th>3</th>\n",
       "      <td>Cargo (2017)</td>\n",
       "      <td>188541</td>\n",
       "      <td>0.364</td>\n",
       "      <td>0.320</td>\n",
       "      <td>0.342</td>\n",
       "      <td>0.022</td>\n",
       "      <td>0.045</td>\n",
       "      <td>0.117</td>\n",
       "      <td>0.320</td>\n",
       "      <td>0.065</td>\n",
       "    </tr>\n",
       "    <tr>\n",
       "      <th>2</th>\n",
       "      <td>Garden of Words, The (Koto no ha no niwa) (2013)</td>\n",
       "      <td>109633</td>\n",
       "      <td>0.318</td>\n",
       "      <td>0.345</td>\n",
       "      <td>0.331</td>\n",
       "      <td>0.013</td>\n",
       "      <td>0.027</td>\n",
       "      <td>0.110</td>\n",
       "      <td>0.318</td>\n",
       "      <td>0.040</td>\n",
       "    </tr>\n",
       "    <tr>\n",
       "      <th>0</th>\n",
       "      <td>Volver (2006)</td>\n",
       "      <td>44694</td>\n",
       "      <td>0.335</td>\n",
       "      <td>0.317</td>\n",
       "      <td>0.326</td>\n",
       "      <td>0.009</td>\n",
       "      <td>0.018</td>\n",
       "      <td>0.106</td>\n",
       "      <td>0.317</td>\n",
       "      <td>0.027</td>\n",
       "    </tr>\n",
       "    <tr>\n",
       "      <th>6</th>\n",
       "      <td>The Red Turtle (2016)</td>\n",
       "      <td>160848</td>\n",
       "      <td>0.315</td>\n",
       "      <td>0.314</td>\n",
       "      <td>0.314</td>\n",
       "      <td>0.000</td>\n",
       "      <td>0.001</td>\n",
       "      <td>0.099</td>\n",
       "      <td>0.314</td>\n",
       "      <td>0.001</td>\n",
       "    </tr>\n",
       "    <tr>\n",
       "      <th>7</th>\n",
       "      <td>Girl Who Leapt Through Time, The (Toki o kaker...</td>\n",
       "      <td>57504</td>\n",
       "      <td>0.336</td>\n",
       "      <td>0.312</td>\n",
       "      <td>0.324</td>\n",
       "      <td>0.012</td>\n",
       "      <td>0.024</td>\n",
       "      <td>0.105</td>\n",
       "      <td>0.312</td>\n",
       "      <td>0.037</td>\n",
       "    </tr>\n",
       "  </tbody>\n",
       "</table>\n",
       "</div>"
      ],
      "text/plain": [
       "                                               title      id  user1_sim  \\\n",
       "8                                       Rango (2011)   84944      0.337   \n",
       "5                                       Mulan (1998)    1907      0.513   \n",
       "1                             The Jungle Book (2016)  137857      0.332   \n",
       "4  Wolf Children (Okami kodomo no ame to yuki) (2...  101962      0.411   \n",
       "3                                       Cargo (2017)  188541      0.364   \n",
       "2   Garden of Words, The (Koto no ha no niwa) (2013)  109633      0.318   \n",
       "0                                      Volver (2006)   44694      0.335   \n",
       "6                              The Red Turtle (2016)  160848      0.315   \n",
       "7  Girl Who Leapt Through Time, The (Toki o kaker...   57504      0.336   \n",
       "\n",
       "   user2_sim  mean_sim  std_sim  ineq_sim  prod_sim  mean_ineq_sim  \\\n",
       "8      0.340     0.339    0.002     0.004     0.115          0.337   \n",
       "5      0.333     0.423    0.090     0.180     0.171          0.333   \n",
       "1      0.330     0.331    0.001     0.002     0.110          0.330   \n",
       "4      0.321     0.366    0.045     0.091     0.132          0.321   \n",
       "3      0.320     0.342    0.022     0.045     0.117          0.320   \n",
       "2      0.345     0.331    0.013     0.027     0.110          0.318   \n",
       "0      0.317     0.326    0.009     0.018     0.106          0.317   \n",
       "6      0.314     0.314    0.000     0.001     0.099          0.314   \n",
       "7      0.312     0.324    0.012     0.024     0.105          0.312   \n",
       "\n",
       "   std_over_mean_sim  \n",
       "8              0.006  \n",
       "5              0.213  \n",
       "1              0.003  \n",
       "4              0.124  \n",
       "3              0.065  \n",
       "2              0.040  \n",
       "0              0.027  \n",
       "6              0.001  \n",
       "7              0.037  "
      ]
     },
     "execution_count": 33,
     "metadata": {},
     "output_type": "execute_result"
    }
   ],
   "source": [
    "movies = [2019, 63859]\n",
    "res = find_middle_with_filter(model, filtered_movies, movieid_to_doctags, movies, 2000, movies)\n",
    "res"
   ]
  },
  {
   "cell_type": "markdown",
   "metadata": {},
   "source": [
    "Let's create 10K random pair of movies, obtain the recommendation "
   ]
  },
  {
   "cell_type": "code",
   "execution_count": 115,
   "metadata": {
    "scrolled": false
   },
   "outputs": [],
   "source": [
    "n = 10000\n",
    "test = [(i,j) for i,j in zip(random.choices(movieId,k = n),random.choices(movieId,k = n))]"
   ]
  },
  {
   "cell_type": "code",
   "execution_count": 116,
   "metadata": {
    "scrolled": false
   },
   "outputs": [
    {
     "name": "stderr",
     "output_type": "stream",
     "text": [
      "100%|██████████| 10000/10000 [12:33<00:00, 13.27it/s]\n"
     ]
    }
   ],
   "source": [
    "rows = []\n",
    "for par in tqdm(test):\n",
    "    row = find_middle_with_filter(model, titles, movieid_to_doctags, par, 2000, par)\n",
    "    rows.append(row)"
   ]
  },
  {
   "cell_type": "markdown",
   "metadata": {},
   "source": [
    "Let's see how the original similarity (sim) compares to the similarity obtained from the recommendations for user 1 (user_sim1) and user 2(user_sim2)"
   ]
  },
  {
   "cell_type": "code",
   "execution_count": null,
   "metadata": {},
   "outputs": [],
   "source": [
    "data_simulated = pd.DataFrame(rows, columns= ['movie1','movie2','sim','user1_sim','user2_sim'])\n",
    "data_simulated"
   ]
  },
  {
   "cell_type": "code",
   "execution_count": 122,
   "metadata": {
    "scrolled": false
   },
   "outputs": [
    {
     "data": {
      "text/plain": [
       "(array([1.260e+03, 6.861e+03, 1.681e+03, 1.570e+02, 2.700e+01, 7.000e+00,\n",
       "        2.000e+00, 1.000e+00, 1.000e+00, 2.000e+00]),\n",
       " array([0.29383333, 0.35106667, 0.4083    , 0.46553333, 0.52276667,\n",
       "        0.58      , 0.63723333, 0.69446667, 0.7517    , 0.80893333,\n",
       "        0.86616667]),\n",
       " <a list of 10 Patch objects>)"
      ]
     },
     "execution_count": 122,
     "metadata": {},
     "output_type": "execute_result"
    },
    {
     "data": {
      "image/png": "[encoded data removed]",
      "text/plain": [
       "<Figure size 432x288 with 1 Axes>"
      ]
     },
     "metadata": {},
     "output_type": "display_data"
    }
   ],
   "source": [
    "plt.hist(data_simulated.sim)\n",
    "plt.hist(data_simulated.user1_sim)\n",
    "plt.hist(data_simulated.user2_sim)"
   ]
  },
  {
   "cell_type": "markdown",
   "metadata": {},
   "source": [
    "The distribution of the recommended movies are displaced to right, and are almost 3x more similar than the original ones"
   ]
  },
  {
   "cell_type": "code",
   "execution_count": 123,
   "metadata": {
    "scrolled": false
   },
   "outputs": [
    {
     "name": "stdout",
     "output_type": "stream",
     "text": [
      "0.1410587357162498 0.09641021164723354\n",
      "0.38405765076507653 0.03259824112337066\n",
      "0.384308167483415 0.033825815150535066\n",
      "2.724454926751078\n"
     ]
    }
   ],
   "source": [
    "print(np.mean(data_simulated.sim),np.std(data_simulated.sim))\n",
    "print(np.mean(data_simulated.user1_sim),np.std(data_simulated.user1_sim))\n",
    "print(np.mean(data_simulated.user2_sim),np.std(data_simulated.user2_sim))\n",
    "print(np.mean(data_simulated.user2_sim)/np.mean(data_simulated.sim))"
   ]
  },
  {
   "cell_type": "code",
   "execution_count": 3,
   "metadata": {
    "scrolled": false
   },
   "outputs": [],
   "source": [
    "data_simulated.to_csv('10K random movie simulations and user similarity results.csv')\n",
    "data_simulated = pd.read_csv('10K random movie simulations and user similarity results.csv')\n",
    "data_simulated = data_simulated.drop('Unnamed: 0', axis = 1)"
   ]
  },
  {
   "cell_type": "code",
   "execution_count": 4,
   "metadata": {
    "scrolled": false
   },
   "outputs": [],
   "source": [
    "data_simulated.columns = ['movie1','movie2','movie1 vs movie2','recom. vs movie1','recom. vs movie2']"
   ]
  },
  {
   "cell_type": "code",
   "execution_count": 5,
   "metadata": {
    "scrolled": false
   },
   "outputs": [],
   "source": [
    "data_simulated_melt = data_simulated[['movie1 vs movie2','recom. vs movie1','recom. vs movie2']].melt()"
   ]
  },
  {
   "cell_type": "code",
   "execution_count": 9,
   "metadata": {
    "scrolled": false
   },
   "outputs": [
    {
     "data": {
      "image/png": "[encoded data removed]",
      "text/plain": [
       "<Figure size 720x576 with 1 Axes>"
      ]
     },
     "metadata": {},
     "output_type": "display_data"
    }
   ],
   "source": [
    "plt.figure(figsize=(10, 8))\n",
    "sns.boxplot(data_simulated_melt.variable, data_simulated_melt.value, showfliers = False);\n",
    "plt.ylabel('Cosine Similarity', FontSize = 16)\n",
    "plt.xlabel('')\n",
    "plt.xticks(FontSize = 16)\n",
    "plt.savefig('Similarity between movies - boxplot no outliers.png')"
   ]
  },
  {
   "cell_type": "markdown",
   "metadata": {},
   "source": [
    "There are a couple of cases that the original movies are better, but this occur when the orgianl was already very high in similarity:"
   ]
  },
  {
   "cell_type": "code",
   "execution_count": 255,
   "metadata": {
    "scrolled": false
   },
   "outputs": [
    {
     "data": {
      "text/plain": [
       "<matplotlib.axes._subplots.AxesSubplot at 0x1a40ec6c50>"
      ]
     },
     "execution_count": 255,
     "metadata": {},
     "output_type": "execute_result"
    },
    {
     "data": {
      "image/png": "[encoded data removed]",
      "text/plain": [
       "<Figure size 432x288 with 1 Axes>"
      ]
     },
     "metadata": {},
     "output_type": "display_data"
    }
   ],
   "source": [
    "wrong = data_simulated[((data_simulated['recom. vs movie1'] - data_simulated['movie1 vs movie2']) < 0.0)]\n",
    "\n",
    "sns.scatterplot(data_simulated['movie1 vs movie2'],data_simulated['recom. vs movie1'], alpha = 0.3)\n",
    "sns.scatterplot(wrong['movie1 vs movie2'],wrong['recom. vs movie1'], color = 'red', alpha = 0.5)"
   ]
  }
 ],
 "metadata": {
  "kernelspec": {
   "display_name": "Python 3",
   "language": "python",
   "name": "python3"
  },
  "language_info": {
   "codemirror_mode": {
    "name": "ipython",
    "version": 3
   },
   "file_extension": ".py",
   "mimetype": "text/x-python",
   "name": "python",
   "nbconvert_exporter": "python",
   "pygments_lexer": "ipython3",
   "version": "3.7.6"
  }
 },
 "nbformat": 4,
 "nbformat_minor": 2
}
